{
 "cells": [
  {
   "cell_type": "code",
   "execution_count": 7,
   "id": "ca3949c3-0402-4545-ab00-10edd21e64b3",
   "metadata": {},
   "outputs": [
    {
     "name": "stderr",
     "output_type": "stream",
     "text": [
      "[nltk_data] Downloading package punkt to /Users/gavin/nltk_data...\n",
      "[nltk_data]   Package punkt is already up-to-date!\n"
     ]
    },
    {
     "data": {
      "text/plain": [
       "True"
      ]
     },
     "execution_count": 7,
     "metadata": {},
     "output_type": "execute_result"
    }
   ],
   "source": [
    "import math\n",
    "import pickle\n",
    "import re  \n",
    "import spacy\n",
    "from sklearn.feature_extraction.text import TfidfVectorizer\n",
    "from sklearn.preprocessing import StandardScaler\n",
    "from sklearn.pipeline import make_pipeline\n",
    "from sklearn.compose import ColumnTransformer\n",
    "from datasets import load_dataset\n",
    "import numpy as np\n",
    "import torch\n",
    "import torch.nn as nn\n",
    "import torch.optim as optim\n",
    "from torch.utils.data import Dataset, DataLoader\n",
    "from sklearn.model_selection import train_test_split\n",
    "from sklearn.linear_model import LogisticRegression\n",
    "from sklearn.metrics import accuracy_score, f1_score, confusion_matrix\n",
    "from tqdm import tqdm\n",
    "import nltk\n",
    "import matplotlib.pyplot as plt\n",
    "import seaborn as sns\n",
    "import copy\n",
    "from nltk.tokenize import word_tokenize\n",
    "import pandas as pd\n",
    "from sklearn.base import BaseEstimator, TransformerMixin\n",
    "from sklearn.metrics import accuracy_score, f1_score, recall_score, confusion_matrix\n",
    "nltk.download('punkt')"
   ]
  },
  {
   "cell_type": "code",
   "execution_count": 8,
   "id": "08538efd-dcab-4f5d-8556-7b3a179bd073",
   "metadata": {},
   "outputs": [
    {
     "name": "stdout",
     "output_type": "stream",
     "text": [
      "device:: mps\n",
      "The stainless-steel <e1>vessel</e1> was fully provided with <e2>nitrogen</e2>, and the outer volume of the chamber stayed at a steady pressure.}\n",
      "7\n",
      "success to enhance data\n",
      "start feature extract...\n",
      "Feature extract process：\n"
     ]
    },
    {
     "name": "stderr",
     "output_type": "stream",
     "text": [
      "Processing: 100%|█████████████| 6559/6559 [00:26<00:00, 252.20it/s]\n"
     ]
    },
    {
     "name": "stdout",
     "output_type": "stream",
     "text": [
      "Feature extract process：\n"
     ]
    },
    {
     "name": "stderr",
     "output_type": "stream",
     "text": [
      "Processing: 100%|█████████████| 1640/1640 [00:06<00:00, 253.45it/s]\n"
     ]
    },
    {
     "name": "stdout",
     "output_type": "stream",
     "text": [
      "training classfier...\n"
     ]
    },
    {
     "name": "stderr",
     "output_type": "stream",
     "text": [
      "/opt/anaconda3/lib/python3.12/site-packages/torch/optim/lr_scheduler.py:62: UserWarning: The verbose parameter is deprecated. Please use get_last_lr() to access the learning rate.\n",
      "  warnings.warn(\n"
     ]
    },
    {
     "name": "stdout",
     "output_type": "stream",
     "text": [
      "save feature_extractor.pkl\n",
      "save scaler.pkl\n",
      "save binary_classifier.pkl\n"
     ]
    },
    {
     "name": "stderr",
     "output_type": "stream",
     "text": [
      "Epoch 1/20: 100%|███████████████| 339/339 [00:03<00:00, 104.51it/s]\n"
     ]
    },
    {
     "name": "stdout",
     "output_type": "stream",
     "text": [
      "loaded feature extractor\n",
      "loaded scaler\n",
      "load Classifier\n",
      "Epoch 1/20 | Train Loss: 2.7281 | Val Loss: 2.6580 | Val Acc: 0.1807 | Weighted F1: 0.0871 | Macro Recall: 0.1042\n",
      "Epoch 1: Best Val Acc updated to 0.1807\n"
     ]
    },
    {
     "name": "stderr",
     "output_type": "stream",
     "text": [
      "Epoch 2/20: 100%|███████████████| 339/339 [00:03<00:00, 105.81it/s]\n"
     ]
    },
    {
     "name": "stdout",
     "output_type": "stream",
     "text": [
      "loaded feature extractor\n",
      "loaded scaler\n",
      "load Classifier\n",
      "Epoch 2/20 | Train Loss: 2.5655 | Val Loss: 2.3474 | Val Acc: 0.3048 | Weighted F1: 0.2176 | Macro Recall: 0.2142\n",
      "Epoch 2: Best Val Acc updated to 0.3048\n"
     ]
    },
    {
     "name": "stderr",
     "output_type": "stream",
     "text": [
      "Epoch 3/20: 100%|███████████████| 339/339 [00:03<00:00, 106.89it/s]\n"
     ]
    },
    {
     "name": "stdout",
     "output_type": "stream",
     "text": [
      "loaded feature extractor\n",
      "loaded scaler\n",
      "load Classifier\n",
      "Epoch 3/20 | Train Loss: 1.9709 | Val Loss: 1.7036 | Val Acc: 0.5798 | Weighted F1: 0.5489 | Macro Recall: 0.4754\n",
      "Epoch 3: Best Val Acc updated to 0.5798\n"
     ]
    },
    {
     "name": "stderr",
     "output_type": "stream",
     "text": [
      "Epoch 4/20: 100%|███████████████| 339/339 [00:03<00:00, 107.22it/s]\n"
     ]
    },
    {
     "name": "stdout",
     "output_type": "stream",
     "text": [
      "loaded feature extractor\n",
      "loaded scaler\n",
      "load Classifier\n",
      "Epoch 4/20 | Train Loss: 1.6268 | Val Loss: 1.5295 | Val Acc: 0.6480 | Weighted F1: 0.6319 | Macro Recall: 0.5708\n",
      "Epoch 4: Best Val Acc updated to 0.6480\n"
     ]
    },
    {
     "name": "stderr",
     "output_type": "stream",
     "text": [
      "Epoch 5/20: 100%|███████████████| 339/339 [00:03<00:00, 106.06it/s]\n"
     ]
    },
    {
     "name": "stdout",
     "output_type": "stream",
     "text": [
      "loaded feature extractor\n",
      "loaded scaler\n",
      "load Classifier\n",
      "Epoch 5/20 | Train Loss: 1.4658 | Val Loss: 1.4030 | Val Acc: 0.6959 | Weighted F1: 0.6755 | Macro Recall: 0.6209\n",
      "Epoch 5: Best Val Acc updated to 0.6959\n"
     ]
    },
    {
     "name": "stderr",
     "output_type": "stream",
     "text": [
      "Epoch 6/20: 100%|███████████████| 339/339 [00:03<00:00, 106.69it/s]\n"
     ]
    },
    {
     "name": "stdout",
     "output_type": "stream",
     "text": [
      "loaded feature extractor\n",
      "loaded scaler\n",
      "load Classifier\n",
      "Epoch 6/20 | Train Loss: 1.3532 | Val Loss: 1.3400 | Val Acc: 0.7279 | Weighted F1: 0.7155 | Macro Recall: 0.6516\n",
      "Epoch 6: Best Val Acc updated to 0.7279\n"
     ]
    },
    {
     "name": "stderr",
     "output_type": "stream",
     "text": [
      "Epoch 7/20: 100%|███████████████| 339/339 [00:03<00:00, 106.69it/s]\n"
     ]
    },
    {
     "name": "stdout",
     "output_type": "stream",
     "text": [
      "loaded feature extractor\n",
      "loaded scaler\n",
      "load Classifier\n",
      "Epoch 7/20 | Train Loss: 1.2614 | Val Loss: 1.3491 | Val Acc: 0.7155 | Weighted F1: 0.7154 | Macro Recall: 0.6376\n"
     ]
    },
    {
     "name": "stderr",
     "output_type": "stream",
     "text": [
      "Epoch 8/20: 100%|███████████████| 339/339 [00:03<00:00, 106.96it/s]\n"
     ]
    },
    {
     "name": "stdout",
     "output_type": "stream",
     "text": [
      "loaded feature extractor\n",
      "loaded scaler\n",
      "load Classifier\n",
      "Epoch 8/20 | Train Loss: 1.1966 | Val Loss: 1.1994 | Val Acc: 0.7721 | Weighted F1: 0.7647 | Macro Recall: 0.7114\n",
      "Epoch 8: Best Val Acc updated to 0.7721\n"
     ]
    },
    {
     "name": "stderr",
     "output_type": "stream",
     "text": [
      "Epoch 9/20: 100%|███████████████| 339/339 [00:03<00:00, 106.63it/s]\n"
     ]
    },
    {
     "name": "stdout",
     "output_type": "stream",
     "text": [
      "loaded feature extractor\n",
      "loaded scaler\n",
      "load Classifier\n",
      "Epoch 9/20 | Train Loss: 1.1477 | Val Loss: 1.2340 | Val Acc: 0.7663 | Weighted F1: 0.7524 | Macro Recall: 0.7008\n"
     ]
    },
    {
     "name": "stderr",
     "output_type": "stream",
     "text": [
      "Epoch 10/20: 100%|██████████████| 339/339 [00:03<00:00, 103.18it/s]\n"
     ]
    },
    {
     "name": "stdout",
     "output_type": "stream",
     "text": [
      "loaded feature extractor\n",
      "loaded scaler\n",
      "load Classifier\n",
      "Epoch 10/20 | Train Loss: 1.1052 | Val Loss: 1.1647 | Val Acc: 0.7932 | Weighted F1: 0.7871 | Macro Recall: 0.7131\n",
      "Epoch 10: Best Val Acc updated to 0.7932\n"
     ]
    },
    {
     "name": "stderr",
     "output_type": "stream",
     "text": [
      "Epoch 11/20: 100%|██████████████| 339/339 [00:03<00:00, 105.38it/s]\n"
     ]
    },
    {
     "name": "stdout",
     "output_type": "stream",
     "text": [
      "loaded feature extractor\n",
      "loaded scaler\n",
      "load Classifier\n",
      "Epoch 11/20 | Train Loss: 1.0569 | Val Loss: 1.1981 | Val Acc: 0.7743 | Weighted F1: 0.7724 | Macro Recall: 0.7236\n"
     ]
    },
    {
     "name": "stderr",
     "output_type": "stream",
     "text": [
      "Epoch 12/20: 100%|██████████████| 339/339 [00:03<00:00, 106.33it/s]\n"
     ]
    },
    {
     "name": "stdout",
     "output_type": "stream",
     "text": [
      "loaded feature extractor\n",
      "loaded scaler\n",
      "load Classifier\n",
      "Epoch 12/20 | Train Loss: 1.0306 | Val Loss: 1.1487 | Val Acc: 0.7896 | Weighted F1: 0.7874 | Macro Recall: 0.7297\n"
     ]
    },
    {
     "name": "stderr",
     "output_type": "stream",
     "text": [
      "Epoch 13/20: 100%|██████████████| 339/339 [00:03<00:00, 105.25it/s]\n"
     ]
    },
    {
     "name": "stdout",
     "output_type": "stream",
     "text": [
      "loaded feature extractor\n",
      "loaded scaler\n",
      "load Classifier\n",
      "Epoch 13/20 | Train Loss: 1.0171 | Val Loss: 1.1040 | Val Acc: 0.8084 | Weighted F1: 0.8078 | Macro Recall: 0.7652\n",
      "Epoch 13: Best Val Acc updated to 0.8084\n"
     ]
    },
    {
     "name": "stderr",
     "output_type": "stream",
     "text": [
      "Epoch 14/20: 100%|██████████████| 339/339 [00:03<00:00, 106.00it/s]\n"
     ]
    },
    {
     "name": "stdout",
     "output_type": "stream",
     "text": [
      "loaded feature extractor\n",
      "loaded scaler\n",
      "load Classifier\n",
      "Epoch 14/20 | Train Loss: 0.9767 | Val Loss: 1.1094 | Val Acc: 0.8244 | Weighted F1: 0.8219 | Macro Recall: 0.7848\n",
      "Epoch 14: Best Val Acc updated to 0.8244\n"
     ]
    },
    {
     "name": "stderr",
     "output_type": "stream",
     "text": [
      "Epoch 15/20: 100%|██████████████| 339/339 [00:03<00:00, 105.95it/s]\n"
     ]
    },
    {
     "name": "stdout",
     "output_type": "stream",
     "text": [
      "loaded feature extractor\n",
      "loaded scaler\n",
      "load Classifier\n",
      "Epoch 15/20 | Train Loss: 0.9614 | Val Loss: 1.1735 | Val Acc: 0.7925 | Weighted F1: 0.7906 | Macro Recall: 0.7570\n"
     ]
    },
    {
     "name": "stderr",
     "output_type": "stream",
     "text": [
      "Epoch 16/20: 100%|██████████████| 339/339 [00:03<00:00, 105.74it/s]\n"
     ]
    },
    {
     "name": "stdout",
     "output_type": "stream",
     "text": [
      "loaded feature extractor\n",
      "loaded scaler\n",
      "load Classifier\n",
      "Epoch 16/20 | Train Loss: 0.9318 | Val Loss: 1.1017 | Val Acc: 0.8149 | Weighted F1: 0.8159 | Macro Recall: 0.7755\n"
     ]
    },
    {
     "name": "stderr",
     "output_type": "stream",
     "text": [
      "Epoch 17/20: 100%|██████████████| 339/339 [00:03<00:00, 106.05it/s]\n"
     ]
    },
    {
     "name": "stdout",
     "output_type": "stream",
     "text": [
      "loaded feature extractor\n",
      "loaded scaler\n",
      "load Classifier\n",
      "Epoch 17/20 | Train Loss: 0.9208 | Val Loss: 1.1204 | Val Acc: 0.8084 | Weighted F1: 0.8049 | Macro Recall: 0.7552\n"
     ]
    },
    {
     "name": "stderr",
     "output_type": "stream",
     "text": [
      "Epoch 18/20: 100%|██████████████| 339/339 [00:03<00:00, 105.89it/s]\n"
     ]
    },
    {
     "name": "stdout",
     "output_type": "stream",
     "text": [
      "loaded feature extractor\n",
      "loaded scaler\n",
      "load Classifier\n",
      "Epoch 18/20 | Train Loss: 0.9078 | Val Loss: 1.1025 | Val Acc: 0.8222 | Weighted F1: 0.8196 | Macro Recall: 0.7895\n"
     ]
    },
    {
     "name": "stderr",
     "output_type": "stream",
     "text": [
      "Epoch 19/20: 100%|██████████████| 339/339 [00:03<00:00, 105.25it/s]\n"
     ]
    },
    {
     "name": "stdout",
     "output_type": "stream",
     "text": [
      "loaded feature extractor\n",
      "loaded scaler\n",
      "load Classifier\n",
      "Epoch 19/20 | Train Loss: 0.8939 | Val Loss: 1.0855 | Val Acc: 0.8222 | Weighted F1: 0.8216 | Macro Recall: 0.7747\n"
     ]
    },
    {
     "name": "stderr",
     "output_type": "stream",
     "text": [
      "Epoch 20/20: 100%|██████████████| 339/339 [00:03<00:00, 105.86it/s]\n"
     ]
    },
    {
     "name": "stdout",
     "output_type": "stream",
     "text": [
      "loaded feature extractor\n",
      "loaded scaler\n",
      "load Classifier\n",
      "Epoch 20/20 | Train Loss: 0.8742 | Val Loss: 1.0814 | Val Acc: 0.8237 | Weighted F1: 0.8185 | Macro Recall: 0.7740\n",
      "Best model save as attention_bilstm_best.pt\n",
      "Feature extract process：\n"
     ]
    },
    {
     "name": "stderr",
     "output_type": "stream",
     "text": [
      "Processing: 100%|█████████████| 1640/1640 [00:06<00:00, 256.83it/s]\n",
      "overall Eval: 103it [00:02, 48.05it/s]\n"
     ]
    },
    {
     "data": {
      "image/png": "[encoded data removed]",
      "text/plain": [
       "<Figure size 1400x600 with 2 Axes>"
      ]
     },
     "metadata": {},
     "output_type": "display_data"
    }
   ],
   "source": [
    "class PositionalEncoding(nn.Module):\n",
    "    def __init__(self, max_len=50, d_model=300):\n",
    "        super().__init__()\n",
    "        position = torch.arange(max_len).unsqueeze(1)\n",
    "        div_term = torch.exp(torch.arange(0, d_model, 2) * (-math.log(10000.0) / d_model))\n",
    "        pe = torch.zeros(1, max_len, d_model)\n",
    "        pe[0, :, 0::2] = torch.sin(position * div_term)\n",
    "        pe[0, :, 1::2] = torch.cos(position * div_term)\n",
    "        self.register_buffer('pe', pe)\n",
    "\n",
    "    def forward(self, x):\n",
    "        return x + self.pe[:, :x.size(1)]\n",
    "        \n",
    "class FeatureExtractor(BaseEstimator, TransformerMixin):\n",
    "    def __init__(self):\n",
    "        self.nlp = spacy.load(\"en_core_web_sm\", disable=['parser', 'textcat', 'ner'])\n",
    "        self.tfidf = TfidfVectorizer(ngram_range=(1,2), max_features=500)\n",
    "        self.entity_pattern = re.compile(r\"<e1>.*?</e1>|<e2>.*?</e2>\")\n",
    "        \n",
    "    def fit(self, X, y=None):\n",
    "        self.tfidf.fit(X)\n",
    "        return self\n",
    "\n",
    "    def get_entities_context(self, text):\n",
    "        matches = list(self.entity_pattern.finditer(text))\n",
    "        if len(matches) < 2:\n",
    "            return \"\", \"\"\n",
    "        \n",
    "        e1_end = matches[0].end()\n",
    "        e2_start = matches[1].start()\n",
    "        \n",
    "        left_words = text[:e1_end].split()[-3:]\n",
    "        right_words = text[e2_start:].split()[:3]\n",
    "        return \" \".join(left_words), \" \".join(right_words)\n",
    "\n",
    "    def get_dependency_path(self, text):\n",
    "\n",
    "        doc = self.nlp(text)\n",
    "        if len(doc.ents) < 2:\n",
    "            return \"\"\n",
    "        \n",
    "        # 使用更高效的路径查找方式\n",
    "        start_token = doc.ents[0].root\n",
    "        end_token = doc.ents[1].root\n",
    "        path = []\n",
    "        while start_token != end_token and start_token.head != start_token:\n",
    "            path.append(start_token.dep_)\n",
    "            start_token = start_token.head\n",
    "        return \" \".join(path)\n",
    "\n",
    "    def transform(self, X):\n",
    "        features = []\n",
    "        print(\"Feature extract process：\")\n",
    "        for text in tqdm(X, desc=\"Processing\"):\n",
    "            doc = self.nlp(text)\n",
    "            \n",
    "            # feature1：TF-IDF\n",
    "            tfidf_feat = self.tfidf.transform([text]).toarray()[0]\n",
    "            \n",
    "            # feature2：dependecy_path\n",
    "            dep_path = self.get_dependency_path(text)\n",
    "            dep_path_feat = self.tfidf.transform([dep_path]).toarray()[0] if dep_path else np.zeros(500)\n",
    "            \n",
    "            # feature3：context\n",
    "            left, right = self.get_entities_context(text)\n",
    "            context_feat = self.tfidf.transform([f\"{left} {right}\"]).toarray()[0]\n",
    "            \n",
    "            # feature4：POS\n",
    "            pos_tags = ' '.join([t.pos_ for t in doc])\n",
    "            pos_feat = self.tfidf.transform([pos_tags]).toarray()[0]\n",
    "            \n",
    "            # feature5：distance\n",
    "            e1_end = text.find('</e1>') + 5\n",
    "            e2_start = text.find('<e2>')\n",
    "            distance_feat = np.array([max(0, e2_start - e1_end) / 100])\n",
    "            \n",
    "            combined = np.concatenate([\n",
    "                tfidf_feat, \n",
    "                dep_path_feat,\n",
    "                context_feat,\n",
    "                pos_feat,\n",
    "                distance_feat\n",
    "            ])\n",
    "            features.append(combined)\n",
    "            \n",
    "        return np.array(features)\n",
    "\n",
    "class SemEvalDataset(Dataset):\n",
    "    def __init__(self, sentences, labels, word2idx, max_len=50):\n",
    "        self.sentences = sentences\n",
    "        self.labels = labels\n",
    "        self.word2idx = word2idx\n",
    "        self.max_len = max_len\n",
    "\n",
    "    def __len__(self):\n",
    "        return len(self.sentences)\n",
    "\n",
    "    def __getitem__(self, idx):\n",
    "        sentence = self.sentences[idx].replace('<e1>', ' <e1> ').replace('</e1>', ' </e1> ')\n",
    "        sentence = sentence.replace('<e2>', ' <e2> ').replace('</e2>', ' </e2> ')\n",
    "        tokens = word_tokenize(sentence.lower())\n",
    "        seq = [self.word2idx.get(token, self.word2idx['<UNK>']) for token in tokens]\n",
    "        if len(seq) < self.max_len:\n",
    "            seq += [self.word2idx['<PAD>']] * (self.max_len - len(seq))\n",
    "        else:\n",
    "            seq = seq[:self.max_len]\n",
    "        return torch.tensor(seq), torch.tensor(self.labels[idx])\n",
    "\n",
    "# load local Glove embedding\n",
    "def load_glove_embeddings(glove_file, word2idx, embedding_dim=300):\n",
    "    embeddings = np.random.uniform(-0.25, 0.25, (len(word2idx), embedding_dim))\n",
    "    embeddings[word2idx['<PAD>']] = np.zeros(embedding_dim)\n",
    "    with open(glove_file, 'r', encoding='utf-8') as f:\n",
    "        for line in f:\n",
    "            values = line.split()\n",
    "            word = values[0]\n",
    "            if word in word2idx:\n",
    "                vector = np.asarray(values[1:], dtype='float32')\n",
    "                embeddings[word2idx[word]] = vector\n",
    "    return torch.tensor(embeddings, dtype=torch.float)\n",
    "\n",
    "# Attention + BiLSTM Model\n",
    "class BiLSTMSelfAttentionRelationExtractor(nn.Module):\n",
    "    def __init__(self, vocab_size, embedding_dim, hidden_dim, output_dim, embeddings):\n",
    "        super(BiLSTMSelfAttentionRelationExtractor, self).__init__()\n",
    "        self.embedding = nn.Embedding.from_pretrained(embeddings, freeze=True)\n",
    "        self.pos_encoder = PositionalEncoding()\n",
    "        self.bilstm = nn.LSTM(embedding_dim, hidden_dim, num_layers=2, bidirectional=True, batch_first=True, dropout=0.5)\n",
    "        self.attention = nn.Sequential(\n",
    "            nn.Linear(2 * hidden_dim, 128),\n",
    "            nn.Tanh(),\n",
    "            nn.Linear(128, 1)\n",
    "        )\n",
    "        self.fc = nn.Linear(2 * hidden_dim * 3, output_dim)\n",
    "        self.dropout = nn.Dropout(0.6)\n",
    "\n",
    "    def forward(self, x):\n",
    "        x = self.embedding(x)\n",
    "        x = self.pos_encoder(x)  \n",
    "        lstm_out, _ = self.bilstm(x)\n",
    "        attention_scores = self.attention(lstm_out)\n",
    "        attention_scores = torch.softmax(attention_scores.squeeze(-1), dim=-1)\n",
    "        context = torch.bmm(attention_scores.unsqueeze(1), lstm_out).squeeze(1)\n",
    "        avg_pool = torch.mean(lstm_out, dim=1)\n",
    "        max_pool, _ = torch.max(lstm_out, dim=1)\n",
    "        combined = torch.cat([context, avg_pool, max_pool], dim=1)\n",
    "        out = self.dropout(combined)\n",
    "        out = self.fc(out)\n",
    "        return out\n",
    "\n",
    "\n",
    "map_table = {\n",
    "    0: \"Cause-Effect(e1,e2)\", 1: \"Cause-Effect(e2,e1)\", 2: \"Component-Whole(e1,e2)\", 3: \"Component-Whole(e2,e1)\",\n",
    "    4: \"Content-Container(e1,e2)\", 5: \"Content-Container(e2,e1)\", 6: \"Entity-Destination(e1,e2)\", 7: \"Entity-Destination(e2,e1)\",\n",
    "    8: \"Entity-Origin(e1,e2)\", 9: \"Entity-Origin(e2,e1)\", 10: \"Instrument-Agency(e1,e2)\", 11: \"Instrument-Agency(e2,e1)\",\n",
    "    12: \"Member-Collection(e1,e2)\", 13: \"Member-Collection(e2,e1)\", 14: \"Message-Topic(e1,e2)\", 15: \"Message-Topic(e2,e1)\",\n",
    "    16: \"Product-Producer(e1,e2)\", 17: \"Product-Producer(e2,e1)\", 18: \"Other\"\n",
    "}\n",
    "\n",
    "\n",
    "if __name__ == '__main__':\n",
    "    \n",
    "    device = torch.device(\"mps\" if torch.backends.mps.is_available() else \"cpu\")\n",
    "    print(f\"device:: {device}\")\n",
    "\n",
    "    # load SemEval-2010 Task 8 \n",
    "    dataset = load_dataset(\"SemEvalWorkshop/sem_eval_2010_task_8\")\n",
    "    sentences = dataset['train']['sentence']\n",
    "    labels = dataset['train']['relation']\n",
    "    # data enhance\n",
    "    try:\n",
    "        aug_df = pd.read_csv('./data.csv')\n",
    "        sentences += aug_df['sentence'].tolist()\n",
    "        labels += [7] * len(aug_df) \n",
    "        print(sentences[-1])\n",
    "        print(labels[-1])\n",
    "        print(f\"success to enhance data\")\n",
    "    except Exception as e:\n",
    "        print(f\"fail to enhance data: {str(e)}\")\n",
    "\n",
    "    \n",
    "    all_tokens = [word_tokenize(s.lower()) for s in sentences]\n",
    "    vocab = {word for tokens in all_tokens for word in tokens}\n",
    "    word2idx = {word: idx + 2 for idx, word in enumerate(vocab)}\n",
    "    word2idx['<PAD>'] = 0\n",
    "    word2idx['<UNK>'] = 1\n",
    "\n",
    "    # 加load Glove\n",
    "    embedding_dim = 300\n",
    "    glove_path = 'glove.6B.300d.txt'\n",
    "    embeddings = load_glove_embeddings(glove_path, word2idx, embedding_dim)\n",
    "\n",
    "    # dataset Splite\n",
    "    X_train, X_val, y_train, y_val = train_test_split(sentences, labels, test_size=0.2, random_state=42)\n",
    "    train_dataset = SemEvalDataset(X_train, y_train, word2idx)\n",
    "    val_dataset = SemEvalDataset(X_val, y_val, word2idx)\n",
    "    train_loader = DataLoader(train_dataset, batch_size=16, shuffle=True)\n",
    "    val_loader = DataLoader(val_dataset, batch_size=16)\n",
    "\n",
    "\n",
    "    # --- Stage 1：other vs NonOtrher ---\n",
    "    y_train_binary = [0 if label == 18 else 1 for label in y_train]\n",
    "    y_val_binary = [0 if label == 18 else 1 for label in y_val]\n",
    "\n",
    "  \n",
    "    # Feature Engineering\n",
    "    print(\"start feature extract...\")\n",
    "    feature_extractor = FeatureExtractor()\n",
    "    \n",
    "    # building feature matrix\n",
    "    X_train_features = feature_extractor.fit_transform(X_train)\n",
    "    X_val_features = feature_extractor.transform(X_val)\n",
    "    \n",
    "\n",
    "    scaler = StandardScaler()\n",
    "    X_train_scaled = scaler.fit_transform(X_train_features)\n",
    "    X_val_scaled = scaler.transform(X_val_features)\n",
    "    \n",
    "\n",
    "    print(\"training classfier...\")\n",
    "    binary_classifier = make_pipeline(\n",
    "        LogisticRegression(max_iter=1000, class_weight='balanced')\n",
    "    )\n",
    "    binary_classifier.fit(X_train_scaled, y_train_binary)\n",
    "\n",
    "\n",
    "    # save feature extractor\n",
    "    with open('feature_extractor.pkl', 'wb') as f:\n",
    "        pickle.dump(feature_extractor, f)\n",
    "    print(\"save feature_extractor.pkl\")\n",
    "    \n",
    "    # save scaler\n",
    "    with open('scaler.pkl', 'wb') as f:\n",
    "        pickle.dump(scaler, f)\n",
    "    print(\"save scaler.pkl\")\n",
    "    \n",
    "    # save Bio_model\n",
    "    with open('binary_classifier.pkl', 'wb') as f:\n",
    "        pickle.dump(binary_classifier, f)\n",
    "    print(\"save binary_classifier.pkl\")\n",
    "    \n",
    "\n",
    "    # --- stage2 ：18 classfier（Nonother） ---\n",
    "    # filter Other class\n",
    "    non_other_indices_train = [i for i, label in enumerate(y_train) if label != 18]\n",
    "    non_other_indices_val = [i for i, label in enumerate(y_val) if label != 18]\n",
    "\n",
    "    X_train_non_other = [X_train[i] for i in non_other_indices_train]\n",
    "    y_train_non_other = [y_train[i] for i in non_other_indices_train]\n",
    "    X_val_non_other = [X_val[i] for i in non_other_indices_val]\n",
    "    y_val_non_other = [y_val[i] for i in non_other_indices_val]\n",
    "\n",
    "    train_dataset_non_other = SemEvalDataset(X_train_non_other, y_train_non_other, word2idx)\n",
    "    val_dataset_non_other = SemEvalDataset(X_val_non_other, y_val_non_other, word2idx)\n",
    "    train_loader_non_other = DataLoader(train_dataset_non_other, batch_size=16, shuffle=True)\n",
    "    val_loader_non_other = DataLoader(val_dataset_non_other, batch_size=16)\n",
    "\n",
    "    # init\n",
    "    hidden_dim = 128\n",
    "    output_dim = 18  # 18 类\n",
    "    model = BiLSTMSelfAttentionRelationExtractor(len(word2idx), embedding_dim, hidden_dim, output_dim, embeddings)\n",
    "    model.to(device)\n",
    "\n",
    "\n",
    "    criterion = nn.CrossEntropyLoss(label_smoothing=0.1)\n",
    "    optimizer = optim.Adam(model.parameters(), lr=0.001, weight_decay=1e-5)\n",
    "    scheduler = optim.lr_scheduler.ReduceLROnPlateau(optimizer, 'min', patience=5, verbose=True)\n",
    "\n",
    "    # training loop\n",
    "    train_losses, val_losses = [], []\n",
    "    val_accuracies, val_weighted_f1_scores,val_recalls = [], [],[]\n",
    "    best_val_acc = 0.0\n",
    "    best_model_state = None\n",
    "    epochs = 20\n",
    "\n",
    "    for epoch in range(epochs):\n",
    "        model.train()\n",
    "        total_loss = 0\n",
    "        for X_batch, y_batch in tqdm(train_loader_non_other, desc=f\"Epoch {epoch+1}/{epochs}\"):\n",
    "            X_batch, y_batch = X_batch.to(device), y_batch.to(device)\n",
    "            optimizer.zero_grad()\n",
    "            outputs = model(X_batch)\n",
    "            loss = criterion(outputs, y_batch)\n",
    "            loss.backward()\n",
    "            optimizer.step()\n",
    "            total_loss += loss.item()\n",
    "        avg_train_loss = total_loss / len(train_loader_non_other)\n",
    "        train_losses.append(avg_train_loss)\n",
    "        # load files\n",
    "        with open('feature_extractor.pkl', 'rb') as f:\n",
    "          feature_extractor = pickle.load(f)\n",
    "          print(\"loaded feature extractor\")\n",
    "        with open('scaler.pkl', 'rb') as f:\n",
    "          scaler = pickle.load(f)\n",
    "          print(\"loaded scaler\")\n",
    "        with open('binary_classifier.pkl', 'rb') as f:\n",
    "          binary_classifier = pickle.load(f)\n",
    "          print(\"load Classifier\")\n",
    "         \n",
    "        model.eval()\n",
    "        y_true, y_pred = [], []\n",
    "        val_loss = 0\n",
    "        with torch.no_grad():\n",
    "            for X_batch, y_batch in val_loader_non_other:\n",
    "                X_batch, y_batch = X_batch.to(device), y_batch.to(device)\n",
    "                outputs = model(X_batch)\n",
    "                loss = criterion(outputs, y_batch)\n",
    "                val_loss += loss.item()\n",
    "                _, predicted = torch.max(outputs, 1)\n",
    "                y_true.extend(y_batch.cpu().tolist())\n",
    "                y_pred.extend(predicted.cpu().tolist())\n",
    "        avg_val_loss = val_loss / len(val_loader_non_other)\n",
    "        val_losses.append(avg_val_loss)\n",
    "        val_recall = recall_score(y_true, y_pred, average='macro')\n",
    "        val_recalls.append(val_recall)\n",
    "        val_acc = accuracy_score(y_true, y_pred)\n",
    "        val_weighted_f1 = f1_score(y_true, y_pred, average='weighted')\n",
    "        val_accuracies.append(val_acc)\n",
    "        val_weighted_f1_scores.append(val_weighted_f1)\n",
    "\n",
    "        print(f\"Epoch {epoch+1}/{epochs} | Train Loss: {avg_train_loss:.4f} | Val Loss: {avg_val_loss:.4f} | \"\n",
    "              f\"Val Acc: {val_acc:.4f} | Weighted F1: {val_weighted_f1:.4f} | Macro Recall: {val_recall:.4f}\")\n",
    "        scheduler.step(avg_val_loss)\n",
    "\n",
    "        if val_acc > best_val_acc:\n",
    "            best_val_acc = val_acc\n",
    "            best_model_state = copy.deepcopy(model.state_dict())\n",
    "            print(f\"Epoch {epoch+1}: Best Val Acc updated to {best_val_acc:.4f}\")\n",
    "\n",
    "    # save best model\n",
    "    if best_model_state is not None:\n",
    "        model.load_state_dict(best_model_state)\n",
    "        torch.save(model.state_dict(), 'attention_bilstm_best.pt')\n",
    "        print(\"Best model save as attention_bilstm_best.pt\")\n",
    "\n",
    "    # --- overall eval ---\n",
    "    with open('feature_extractor.pkl', 'rb') as f:\n",
    "        feature_extractor = pickle.load(f)\n",
    "    with open('scaler.pkl', 'rb') as f:\n",
    "        scaler = pickle.load(f)\n",
    "    with open('binary_classifier.pkl', 'rb') as f:\n",
    "        binary_classifier = pickle.load(f)\n",
    "    model.eval()\n",
    "    y_true_overall, y_pred_overall = [], []\n",
    "\n",
    "\n",
    "    X_val_features = feature_extractor.transform(X_val)\n",
    "    X_val_scaled = scaler.transform(X_val_features)  \n",
    "\n",
    "    with torch.no_grad():\n",
    "     for i, (X_batch, y_batch) in tqdm(enumerate(val_loader), desc=\"overall Eval\"):\n",
    "\n",
    "        start_idx = i * val_loader.batch_size\n",
    "        end_idx = start_idx + val_loader.batch_size\n",
    "        batch_features = X_val_scaled[start_idx:end_idx]\n",
    "        \n",
    "\n",
    "        y_pred_binary = binary_classifier.predict(batch_features)\n",
    "        \n",
    "\n",
    "        non_other_indices = np.where(y_pred_binary == 1)[0]\n",
    "        \n",
    "\n",
    "        if len(non_other_indices) > 0:\n",
    "            X_non_other = X_batch[non_other_indices].to(device)\n",
    "            outputs = model(X_non_other)\n",
    "            _, predicted = torch.max(outputs, 1)\n",
    "            pred_labels = predicted.cpu().numpy()\n",
    "        else:\n",
    "            pred_labels = []\n",
    "        \n",
    "        # merege result\n",
    "        batch_pred = []\n",
    "        ptr = 0\n",
    "        for j in range(len(y_pred_binary)):\n",
    "            if j in non_other_indices:\n",
    "                batch_pred.append(pred_labels[ptr])\n",
    "                ptr += 1\n",
    "            else:\n",
    "                batch_pred.append(18)  # Other\n",
    "        \n",
    "        y_pred_overall.extend(batch_pred)\n",
    "        y_true_overall.extend(y_batch.cpu().tolist())\n",
    "    # visualization\n",
    "    epochs_range = range(1, len(train_losses) + 1)\n",
    "    plt.figure(figsize=(14, 6))\n",
    "    plt.subplot(1, 2, 1)\n",
    "    plt.plot(epochs_range, train_losses, label='Train Loss')\n",
    "    plt.plot(epochs_range, val_losses, label='Val Loss')\n",
    "    plt.xlabel('Epoch')\n",
    "    plt.ylabel('Loss')\n",
    "    plt.title('Training & Validation Loss')\n",
    "    plt.legend()\n",
    "    plt.subplot(1, 2, 2)\n",
    "    plt.plot(epochs_range, val_accuracies, label='Val Accuracy')\n",
    "    plt.plot(epochs_range, val_weighted_f1_scores, label='Val Weighted F1')\n",
    "    plt.plot(epochs_range, val_recalls, label='Val Macro Recall')\n",
    "    plt.xlabel('Epoch')\n",
    "    plt.ylabel('Score')\n",
    "    plt.title('Validation Metrics')\n",
    "    plt.legend()\n",
    "    plt.tight_layout()\n",
    "    plt.savefig('training_validation_metrics.png')\n",
    "    plt.show()"
   ]
  },
  {
   "cell_type": "code",
   "execution_count": null,
   "id": "4ea9e63b-7e85-4591-b2c4-df6f6d1bfc25",
   "metadata": {},
   "outputs": [],
   "source": []
  },
  {
   "cell_type": "code",
   "execution_count": null,
   "id": "832792cf-3414-469b-8188-245bba1982f5",
   "metadata": {},
   "outputs": [],
   "source": []
  }
 ],
 "metadata": {
  "kernelspec": {
   "display_name": "Python 3 (ipykernel)",
   "language": "python",
   "name": "python3"
  },
  "language_info": {
   "codemirror_mode": {
    "name": "ipython",
    "version": 3
   },
   "file_extension": ".py",
   "mimetype": "text/x-python",
   "name": "python",
   "nbconvert_exporter": "python",
   "pygments_lexer": "ipython3",
   "version": "3.12.7"
  }
 },
 "nbformat": 4,
 "nbformat_minor": 5
}
